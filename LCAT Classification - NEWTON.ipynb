{
 "cells": [
  {
   "cell_type": "code",
   "execution_count": 63,
   "metadata": {
    "collapsed": false
   },
   "outputs": [],
   "source": [
    "import pandas as pd\n",
    "import numpy as np\n",
    "import os\n",
    "import matplotlib.pyplot as plt\n",
    "import seaborn as sns\n",
    "from sklearn.linear_model import LogisticRegression\n",
    "from sklearn.feature_extraction.text import CountVectorizer, TfidfVectorizer\n",
    "from tqdm import tqdm\n",
    "import gc\n",
    "from wordcloud import WordCloud,STOPWORDS\n",
    "import urllib\n",
    "from urllib.request import urlopen\n",
    "from bs4 import BeautifulSoup\n",
    "import time\n",
    "from sklearn.model_selection import KFold, RepeatedKFold,train_test_split\n",
    "from sklearn.metrics import accuracy_score\n",
    "import lightgbm as lgb\n",
    "%matplotlib inline\n",
    "import warnings\n",
    "warnings.filterwarnings(\"ignore\")\n",
    "\n",
    "os.getcwd()\n",
    "os.chdir(\"\\\\\\\\CHRB1067.CORP.GWPNET.COM\\\\homes\\\\C\\\\S5RXCY\\\\Documents\\\\\\\\HactionLab\\\\Task 3 - LCAT classification\")\n"
   ]
  },
  {
   "cell_type": "code",
   "execution_count": 64,
   "metadata": {
    "collapsed": true
   },
   "outputs": [],
   "source": [
    "train = pd.read_excel(\"Task3 (2).xlsx\")"
   ]
  },
  {
   "cell_type": "code",
   "execution_count": 65,
   "metadata": {
    "collapsed": false
   },
   "outputs": [
    {
     "data": {
      "text/html": [
       "<div>\n",
       "<style scoped>\n",
       "    .dataframe tbody tr th:only-of-type {\n",
       "        vertical-align: middle;\n",
       "    }\n",
       "\n",
       "    .dataframe tbody tr th {\n",
       "        vertical-align: top;\n",
       "    }\n",
       "\n",
       "    .dataframe thead th {\n",
       "        text-align: right;\n",
       "    }\n",
       "</style>\n",
       "<table border=\"1\" class=\"dataframe\">\n",
       "  <thead>\n",
       "    <tr style=\"text-align: right;\">\n",
       "      <th></th>\n",
       "      <th>Disaster Name</th>\n",
       "      <th>Wikipedia Link</th>\n",
       "      <th>Lcat_Scenario</th>\n",
       "      <th>L-CAT ScenGroup</th>\n",
       "      <th>Lcat_id</th>\n",
       "    </tr>\n",
       "  </thead>\n",
       "  <tbody>\n",
       "    <tr>\n",
       "      <th>0</th>\n",
       "      <td>1900 Hull–Ottawa fire</td>\n",
       "      <td>https://en.wikipedia.org/wiki/1900_Hull%E2%80%...</td>\n",
       "      <td>Brush fires due to bad maintenance</td>\n",
       "      <td>Utility Catastrophe</td>\n",
       "      <td>9016</td>\n",
       "    </tr>\n",
       "    <tr>\n",
       "      <th>1</th>\n",
       "      <td>Bento Rodrigues dam disaster</td>\n",
       "      <td>https://en.wikipedia.org/wiki/Bento_Rodrigues_...</td>\n",
       "      <td>Break of Tailing dam</td>\n",
       "      <td>Utility Catastrophe</td>\n",
       "      <td>9015</td>\n",
       "    </tr>\n",
       "    <tr>\n",
       "      <th>2</th>\n",
       "      <td>Black Saturday bushfires</td>\n",
       "      <td>https://en.wikipedia.org/wiki/Black_Saturday_b...</td>\n",
       "      <td>Brush fires due to bad maintenance</td>\n",
       "      <td>Utility Catastrophe</td>\n",
       "      <td>9016</td>\n",
       "    </tr>\n",
       "    <tr>\n",
       "      <th>3</th>\n",
       "      <td>1998 Jesse pipeline explosion</td>\n",
       "      <td>https://en.wikipedia.org/wiki/1998_Jesse_pipel...</td>\n",
       "      <td>Interupted Gas Supply, pipeline bust, explosion</td>\n",
       "      <td>Utility Catastrophe</td>\n",
       "      <td>9018</td>\n",
       "    </tr>\n",
       "    <tr>\n",
       "      <th>4</th>\n",
       "      <td>2014 Kaohsiung gas explosions</td>\n",
       "      <td>https://en.wikipedia.org/wiki/2014_Kaohsiung_g...</td>\n",
       "      <td>interupted Gas Supply, pipeline bust, explosion</td>\n",
       "      <td>Utility Catastrophe</td>\n",
       "      <td>9018</td>\n",
       "    </tr>\n",
       "  </tbody>\n",
       "</table>\n",
       "</div>"
      ],
      "text/plain": [
       "                   Disaster Name  \\\n",
       "0          1900 Hull–Ottawa fire   \n",
       "1   Bento Rodrigues dam disaster   \n",
       "2       Black Saturday bushfires   \n",
       "3  1998 Jesse pipeline explosion   \n",
       "4  2014 Kaohsiung gas explosions   \n",
       "\n",
       "                                     Wikipedia Link   \\\n",
       "0  https://en.wikipedia.org/wiki/1900_Hull%E2%80%...   \n",
       "1  https://en.wikipedia.org/wiki/Bento_Rodrigues_...   \n",
       "2  https://en.wikipedia.org/wiki/Black_Saturday_b...   \n",
       "3  https://en.wikipedia.org/wiki/1998_Jesse_pipel...   \n",
       "4  https://en.wikipedia.org/wiki/2014_Kaohsiung_g...   \n",
       "\n",
       "                                     Lcat_Scenario      L-CAT ScenGroup  \\\n",
       "0               Brush fires due to bad maintenance  Utility Catastrophe   \n",
       "1                             Break of Tailing dam  Utility Catastrophe   \n",
       "2               Brush fires due to bad maintenance  Utility Catastrophe   \n",
       "3  Interupted Gas Supply, pipeline bust, explosion  Utility Catastrophe   \n",
       "4  interupted Gas Supply, pipeline bust, explosion  Utility Catastrophe   \n",
       "\n",
       "   Lcat_id  \n",
       "0     9016  \n",
       "1     9015  \n",
       "2     9016  \n",
       "3     9018  \n",
       "4     9018  "
      ]
     },
     "execution_count": 65,
     "metadata": {},
     "output_type": "execute_result"
    }
   ],
   "source": [
    "train.head()"
   ]
  },
  {
   "cell_type": "code",
   "execution_count": 66,
   "metadata": {
    "collapsed": false
   },
   "outputs": [],
   "source": [
    "import seaborn as sns\n",
    "sns.set_style(\"whitegrid\")"
   ]
  },
  {
   "cell_type": "code",
   "execution_count": 67,
   "metadata": {
    "collapsed": true
   },
   "outputs": [],
   "source": [
    "train[\"Lcat_Scenario\"] = train[\"Lcat_Scenario\"].apply(lambda x: str(x).strip())"
   ]
  },
  {
   "cell_type": "code",
   "execution_count": 68,
   "metadata": {
    "collapsed": false
   },
   "outputs": [
    {
     "data": {
      "image/png": "[encoded data removed]",
      "text/plain": [
       "<matplotlib.figure.Figure at 0xb1b4e48>"
      ]
     },
     "metadata": {},
     "output_type": "display_data"
    }
   ],
   "source": [
    "plt.figure(figsize = (20,15))\n",
    "sns.countplot(y = \"Lcat_Scenario\",data = train)\n",
    "plt.axvline(x=1,linestyle='--')\n",
    "plt.xlabel(\"Count of pages\")\n",
    "plt.ylabel(\"LCAT categories\")\n",
    "plt.title(\"Distribution of categories\")\n",
    "plt.show()"
   ]
  },
  {
   "cell_type": "code",
   "execution_count": 69,
   "metadata": {
    "collapsed": false
   },
   "outputs": [
    {
     "data": {
      "text/plain": [
       "Train accident due to human error or negligence - PublicTrain                    13\n",
       "Biological food contamination                                                    11\n",
       "Crowd-related accidents                                                          10\n",
       "Construction collapse                                                            10\n",
       "Brush fires due to bad maintenance                                               10\n",
       "Premises Major Explosion in a Processing Factory and Environmental Damage         9\n",
       "Premises Major Explosion in a Processing Factory                                  9\n",
       "Big fire in building with many visitors                                           9\n",
       "Food production error                                                             8\n",
       "Premises Major Explosion in a Warehouse                                           8\n",
       "Train accident due to human error or negligence - Freight Train                   5\n",
       "Break of Tailing dam                                                              3\n",
       "Train accident due to human error or negligenceinvolving explosives               3\n",
       "Train accident due to human error or negligenceinvolving poisonous substances     2\n",
       "interupted Gas Supply, pipeline bust, explosion                                   1\n",
       "Interupted Gas Supply, pipeline bust, explosion                                   1\n",
       "Interrupted public water supply, contamination of drinking water                  1\n",
       "Interrupted Public Water supply, contamination of drinking water                  1\n",
       "Name: Lcat_Scenario, dtype: int64"
      ]
     },
     "execution_count": 69,
     "metadata": {},
     "output_type": "execute_result"
    }
   ],
   "source": [
    "pd.value_counts(train[\"Lcat_Scenario\"])"
   ]
  },
  {
   "cell_type": "code",
   "execution_count": 70,
   "metadata": {
    "collapsed": false
   },
   "outputs": [
    {
     "data": {
      "text/plain": [
       "(114, 5)"
      ]
     },
     "execution_count": 70,
     "metadata": {},
     "output_type": "execute_result"
    }
   ],
   "source": [
    "train.shape"
   ]
  },
  {
   "cell_type": "code",
   "execution_count": 71,
   "metadata": {
    "collapsed": false
   },
   "outputs": [],
   "source": [
    "os.chdir(\"DBpedia\")\n",
    "for i in range(len(train[\"Disaster Name\"])):\n",
    "    try:\n",
    "       with open(train[\"Wikipedia Link \"][i].replace(\"https://en.wikipedia.org/wiki/\",\"\")+\".html\",\"r\",encoding = \"utf-8\") as f:\n",
    "            data = f.read()\n",
    "            soup = BeautifulSoup(data)\n",
    "            if soup.find(\"span\",{'property':'dbo:abstract','xml:lang':'en'}):\n",
    "                train.loc[i,\"Description\"] = soup.find(\"span\",{'property':'dbo:abstract','xml:lang':'en'}).text\n",
    "    except OSError as e:\n",
    "        pass\n",
    "    finally:\n",
    "        pass\n"
   ]
  },
  {
   "cell_type": "code",
   "execution_count": 72,
   "metadata": {
    "collapsed": false
   },
   "outputs": [
    {
     "data": {
      "text/html": [
       "<div>\n",
       "<style scoped>\n",
       "    .dataframe tbody tr th:only-of-type {\n",
       "        vertical-align: middle;\n",
       "    }\n",
       "\n",
       "    .dataframe tbody tr th {\n",
       "        vertical-align: top;\n",
       "    }\n",
       "\n",
       "    .dataframe thead th {\n",
       "        text-align: right;\n",
       "    }\n",
       "</style>\n",
       "<table border=\"1\" class=\"dataframe\">\n",
       "  <thead>\n",
       "    <tr style=\"text-align: right;\">\n",
       "      <th></th>\n",
       "      <th>Disaster Name</th>\n",
       "      <th>Wikipedia Link</th>\n",
       "      <th>Lcat_Scenario</th>\n",
       "      <th>L-CAT ScenGroup</th>\n",
       "      <th>Lcat_id</th>\n",
       "      <th>Description</th>\n",
       "    </tr>\n",
       "  </thead>\n",
       "  <tbody>\n",
       "    <tr>\n",
       "      <th>0</th>\n",
       "      <td>1900 Hull–Ottawa fire</td>\n",
       "      <td>https://en.wikipedia.org/wiki/1900_Hull%E2%80%...</td>\n",
       "      <td>Brush fires due to bad maintenance</td>\n",
       "      <td>Utility Catastrophe</td>\n",
       "      <td>9016</td>\n",
       "      <td>The Hull-Ottawa fire of 1900 was a devastating...</td>\n",
       "    </tr>\n",
       "    <tr>\n",
       "      <th>1</th>\n",
       "      <td>Bento Rodrigues dam disaster</td>\n",
       "      <td>https://en.wikipedia.org/wiki/Bento_Rodrigues_...</td>\n",
       "      <td>Break of Tailing dam</td>\n",
       "      <td>Utility Catastrophe</td>\n",
       "      <td>9015</td>\n",
       "      <td>The Bento Rodrigues dam disaster occurred on 5...</td>\n",
       "    </tr>\n",
       "    <tr>\n",
       "      <th>2</th>\n",
       "      <td>Black Saturday bushfires</td>\n",
       "      <td>https://en.wikipedia.org/wiki/Black_Saturday_b...</td>\n",
       "      <td>Brush fires due to bad maintenance</td>\n",
       "      <td>Utility Catastrophe</td>\n",
       "      <td>9016</td>\n",
       "      <td>The Black Saturday bushfires were a series of ...</td>\n",
       "    </tr>\n",
       "    <tr>\n",
       "      <th>3</th>\n",
       "      <td>1998 Jesse pipeline explosion</td>\n",
       "      <td>https://en.wikipedia.org/wiki/1998_Jesse_pipel...</td>\n",
       "      <td>Interupted Gas Supply, pipeline bust, explosion</td>\n",
       "      <td>Utility Catastrophe</td>\n",
       "      <td>9018</td>\n",
       "      <td>On October 18, 1998 a pipeline explosion occur...</td>\n",
       "    </tr>\n",
       "    <tr>\n",
       "      <th>4</th>\n",
       "      <td>2014 Kaohsiung gas explosions</td>\n",
       "      <td>https://en.wikipedia.org/wiki/2014_Kaohsiung_g...</td>\n",
       "      <td>interupted Gas Supply, pipeline bust, explosion</td>\n",
       "      <td>Utility Catastrophe</td>\n",
       "      <td>9018</td>\n",
       "      <td>On 31 July 2014, a series of gas explosions oc...</td>\n",
       "    </tr>\n",
       "  </tbody>\n",
       "</table>\n",
       "</div>"
      ],
      "text/plain": [
       "                   Disaster Name  \\\n",
       "0          1900 Hull–Ottawa fire   \n",
       "1   Bento Rodrigues dam disaster   \n",
       "2       Black Saturday bushfires   \n",
       "3  1998 Jesse pipeline explosion   \n",
       "4  2014 Kaohsiung gas explosions   \n",
       "\n",
       "                                     Wikipedia Link   \\\n",
       "0  https://en.wikipedia.org/wiki/1900_Hull%E2%80%...   \n",
       "1  https://en.wikipedia.org/wiki/Bento_Rodrigues_...   \n",
       "2  https://en.wikipedia.org/wiki/Black_Saturday_b...   \n",
       "3  https://en.wikipedia.org/wiki/1998_Jesse_pipel...   \n",
       "4  https://en.wikipedia.org/wiki/2014_Kaohsiung_g...   \n",
       "\n",
       "                                     Lcat_Scenario      L-CAT ScenGroup  \\\n",
       "0               Brush fires due to bad maintenance  Utility Catastrophe   \n",
       "1                             Break of Tailing dam  Utility Catastrophe   \n",
       "2               Brush fires due to bad maintenance  Utility Catastrophe   \n",
       "3  Interupted Gas Supply, pipeline bust, explosion  Utility Catastrophe   \n",
       "4  interupted Gas Supply, pipeline bust, explosion  Utility Catastrophe   \n",
       "\n",
       "   Lcat_id                                        Description  \n",
       "0     9016  The Hull-Ottawa fire of 1900 was a devastating...  \n",
       "1     9015  The Bento Rodrigues dam disaster occurred on 5...  \n",
       "2     9016  The Black Saturday bushfires were a series of ...  \n",
       "3     9018  On October 18, 1998 a pipeline explosion occur...  \n",
       "4     9018  On 31 July 2014, a series of gas explosions oc...  "
      ]
     },
     "execution_count": 72,
     "metadata": {},
     "output_type": "execute_result"
    }
   ],
   "source": [
    "train.head()"
   ]
  },
  {
   "cell_type": "code",
   "execution_count": 73,
   "metadata": {
    "collapsed": true
   },
   "outputs": [],
   "source": [
    "labels = list(train[\"Lcat_Scenario\"].str.strip().unique())\n",
    "index = list(range(len(labels)))\n",
    "zipped = zip(labels,index)\n",
    "mapping = dict(zipped)"
   ]
  },
  {
   "cell_type": "code",
   "execution_count": 74,
   "metadata": {
    "collapsed": true
   },
   "outputs": [],
   "source": [
    "train[\"target\"] = train[\"Lcat_Scenario\"].str.strip().map(mapping)"
   ]
  },
  {
   "cell_type": "code",
   "execution_count": 75,
   "metadata": {
    "collapsed": false
   },
   "outputs": [
    {
     "name": "stdout",
     "output_type": "stream",
     "text": [
      "Preprocessing text...\n"
     ]
    }
   ],
   "source": [
    "print('Preprocessing text...')\n",
    "cols = [\n",
    "   'Description'\n",
    "]\n",
    "n_features = [\n",
    "    400\n",
    "]\n",
    "train[\"Description\"] = train[\"Description\"].astype(str)"
   ]
  },
  {
   "cell_type": "code",
   "execution_count": 76,
   "metadata": {
    "collapsed": false
   },
   "outputs": [
    {
     "name": "stderr",
     "output_type": "stream",
     "text": [
      "1it [00:00,  4.02it/s]\n"
     ]
    }
   ],
   "source": [
    "for c_i, c in tqdm(enumerate(cols)):\n",
    "    tfidf = TfidfVectorizer(max_features=n_features[c_i], min_df=3)\n",
    "    tfidf.fit(train[c])\n",
    "    tfidf_train = np.array(tfidf.transform(train[c]).todense(), dtype=np.float16)\n",
    "    #tfidf_test = np.array(tfidf.transform(test[c]).todense(), dtype=np.float16)\n",
    "\n",
    "    for i in range(n_features[c_i]):\n",
    "        train[c + '_tfidf_' + str(i)] = tfidf_train[:, i]\n",
    "        #test[c + '_tfidf_' + str(i)] = tfidf_test[:, i]\n",
    "        \n",
    "    del tfidf, tfidf_train\n",
    "    gc.collect()"
   ]
  },
  {
   "cell_type": "code",
   "execution_count": 77,
   "metadata": {
    "collapsed": false
   },
   "outputs": [],
   "source": [
    "drop_cols = [\"Disaster Name\",\"Wikipedia Link \",\"Lcat_Scenario\",\"L-CAT ScenGroup\",\"Lcat_id\",\"Description\"]\n",
    "train.drop(drop_cols,axis=1,inplace = True)\n",
    "X = train.drop(\"target\",axis = 1)\n",
    "y = train[\"target\"]\n",
    "feature_names = list(X.columns)\n",
    "\n",
    "cnt = 0\n",
    "p_buf = []\n",
    "n_splits = 5\n",
    "n_repeats = 1\n",
    "kf = RepeatedKFold(\n",
    "    n_splits=n_splits, \n",
    "    n_repeats=n_repeats, \n",
    "    random_state=0)\n",
    "auc_buf = []   "
   ]
  },
  {
   "cell_type": "code",
   "execution_count": 78,
   "metadata": {
    "collapsed": false
   },
   "outputs": [
    {
     "name": "stdout",
     "output_type": "stream",
     "text": [
      "Fold 1/5\n",
      "Training until validation scores don't improve for 100 rounds.\n",
      "[100]\tvalid_0's multi_logloss: 2.40069\n",
      "[200]\tvalid_0's multi_logloss: 2.24829\n",
      "[300]\tvalid_0's multi_logloss: 2.1987\n",
      "[400]\tvalid_0's multi_logloss: 2.17757\n",
      "Early stopping, best iteration is:\n",
      "[340]\tvalid_0's multi_logloss: 2.16853\n",
      "Important features:\n",
      "[('Description_tfidf_276', 587), ('Description_tfidf_350', 544), ('Description_tfidf_379', 542), ('Description_tfidf_270', 529), ('Description_tfidf_287', 456), ('Description_tfidf_60', 439), ('Description_tfidf_163', 425), ('Description_tfidf_70', 413), ('Description_tfidf_349', 375), ('Description_tfidf_268', 353), ('Description_tfidf_197', 344), ('Description_tfidf_69', 331), ('Description_tfidf_361', 323), ('Description_tfidf_382', 261), ('Description_tfidf_74', 238), ('Description_tfidf_390', 186), ('Description_tfidf_206', 175), ('Description_tfidf_142', 161), ('Description_tfidf_90', 156), ('Description_tfidf_177', 142), ('Description_tfidf_386', 137), ('Description_tfidf_277', 124), ('Description_tfidf_213', 124), ('Description_tfidf_42', 122), ('Description_tfidf_141', 120), ('Description_tfidf_220', 116), ('Description_tfidf_170', 111), ('Description_tfidf_371', 104), ('Description_tfidf_229', 90), ('Description_tfidf_182', 85), ('Description_tfidf_50', 85), ('Description_tfidf_385', 81), ('Description_tfidf_59', 78), ('Description_tfidf_368', 59), ('Description_tfidf_184', 39), ('Description_tfidf_89', 31), ('Description_tfidf_189', 28), ('Description_tfidf_212', 14), ('Description_tfidf_360', 5)]\n",
      "0 AUC: 0.30434782608695654\n",
      "Fold 2/5\n",
      "Training until validation scores don't improve for 100 rounds.\n",
      "[100]\tvalid_0's multi_logloss: 5.24478\n",
      "[200]\tvalid_0's multi_logloss: 5.20539\n",
      "Early stopping, best iteration is:\n",
      "[150]\tvalid_0's multi_logloss: 5.19919\n",
      "1 AUC: 0.2608695652173913\n",
      "Fold 3/5\n",
      "Training until validation scores don't improve for 100 rounds.\n",
      "[100]\tvalid_0's multi_logloss: 5.36207\n",
      "[200]\tvalid_0's multi_logloss: 5.37961\n",
      "Early stopping, best iteration is:\n",
      "[100]\tvalid_0's multi_logloss: 5.36207\n",
      "2 AUC: 0.08695652173913043\n",
      "Fold 4/5\n",
      "Training until validation scores don't improve for 100 rounds.\n",
      "[100]\tvalid_0's multi_logloss: 2.79425\n",
      "Early stopping, best iteration is:\n",
      "[60]\tvalid_0's multi_logloss: 2.77842\n",
      "3 AUC: 0.08695652173913043\n",
      "Fold 5/5\n",
      "Training until validation scores don't improve for 100 rounds.\n",
      "[100]\tvalid_0's multi_logloss: 2.32055\n",
      "[200]\tvalid_0's multi_logloss: 2.23641\n",
      "Early stopping, best iteration is:\n",
      "[195]\tvalid_0's multi_logloss: 2.21966\n",
      "4 AUC: 0.3181818181818182\n",
      "ACCURACY = 0.211462 +/- 0.103403\n"
     ]
    }
   ],
   "source": [
    "for train_index, valid_index in kf.split(X):\n",
    "    print('Fold {}/{}'.format(cnt + 1, n_splits))\n",
    "    params = {\n",
    "        'boosting_type': 'gbdt',\n",
    "        'objective': 'multiclass',\n",
    "        'num_class':19,\n",
    "        'metric':'multi_logloss',\n",
    "        'max_depth': 16,\n",
    "        'num_leaves': 31,\n",
    "        'learning_rate': 0.025,\n",
    "        'feature_fraction': 0.85,\n",
    "        'bagging_fraction': 0.85,\n",
    "        'bagging_freq': 5,\n",
    "        'verbose': 0,\n",
    "        'num_threads': 1,\n",
    "        'lambda_l2': 1,\n",
    "        'min_gain_to_split': 0,\n",
    "    }  \n",
    "\n",
    "    \n",
    "    model = lgb.train(\n",
    "        params,\n",
    "        lgb.Dataset(X.loc[train_index], y.loc[train_index], feature_name=feature_names),\n",
    "        num_boost_round=1000,\n",
    "        valid_sets=[lgb.Dataset(X.loc[valid_index], y.loc[valid_index])],\n",
    "        early_stopping_rounds=100,\n",
    "        verbose_eval=100,\n",
    "    )\n",
    "\n",
    "    if cnt == 0:\n",
    "        importance = model.feature_importance()\n",
    "        model_fnames = model.feature_name()\n",
    "        tuples = sorted(zip(model_fnames, importance), key=lambda x: x[1])[::-1]\n",
    "        tuples = [x for x in tuples if x[1] > 0]\n",
    "        print('Important features:')\n",
    "        print(tuples[:50])\n",
    "\n",
    "    p = model.predict(X.loc[valid_index], num_iteration=model.best_iteration)\n",
    "    p = list(p)\n",
    "    p = [int(list(np.where(i == i.max()))[0]) for i in p]\n",
    "    auc = accuracy_score(y.loc[valid_index], p)\n",
    "\n",
    "    print('{} AUC: {}'.format(cnt, auc))\n",
    "\n",
    "    #p = model.predict(X_test, num_iteration=model.best_iteration)\n",
    "    #if len(p_buf) == 0:\n",
    "     #   p_buf = np.array(p)\n",
    "    #else:\n",
    "     #   p_buf += np.array(p)\n",
    "    auc_buf.append(auc)\n",
    "\n",
    "    cnt += 1\n",
    "   # if cnt > 0: # Comment this to run several folds\n",
    "   #     break\n",
    "    \n",
    "    del model\n",
    "    gc.collect()\n",
    "\n",
    "auc_mean = np.mean(auc_buf)\n",
    "auc_std = np.std(auc_buf)\n",
    "print('ACCURACY = {:.6f} +/- {:.6f}'.format(auc_mean, auc_std))"
   ]
  },
  {
   "cell_type": "markdown",
   "metadata": {},
   "source": [
    "Since we have 19 categories to predict and the training data is not so huge, we get poor performance. Let us try to build the model on the variable \"L-CAT ScenGroup\" which is at a higher granular level."
   ]
  },
  {
   "cell_type": "code",
   "execution_count": 79,
   "metadata": {
    "collapsed": false
   },
   "outputs": [],
   "source": [
    "os.chdir(\"\\\\\\\\CHRB1067.CORP.GWPNET.COM\\\\homes\\\\C\\\\S5RXCY\\\\Documents\\\\\\\\HactionLab\\\\Task 3 - LCAT classification\")\n",
    "train = pd.read_excel(\"Task3 (2).xlsx\")\n",
    "os.chdir(\"DBpedia\")\n",
    "labels = list(train[\"L-CAT ScenGroup\"].str.strip().unique())\n",
    "index = list(range(len(labels)))\n",
    "zipped = zip(labels,index)\n",
    "mapping = dict(zipped)"
   ]
  },
  {
   "cell_type": "code",
   "execution_count": 80,
   "metadata": {
    "collapsed": true
   },
   "outputs": [],
   "source": [
    "train[\"target\"] = train[\"L-CAT ScenGroup\"].str.strip().map(mapping)"
   ]
  },
  {
   "cell_type": "code",
   "execution_count": 81,
   "metadata": {
    "collapsed": false
   },
   "outputs": [
    {
     "data": {
      "image/png": "[encoded data removed]",
      "text/plain": [
       "<matplotlib.figure.Figure at 0xb109550>"
      ]
     },
     "metadata": {},
     "output_type": "display_data"
    }
   ],
   "source": [
    "plt.figure(figsize = (20,10))\n",
    "sns.countplot(y = \"L-CAT ScenGroup\",data = train)\n",
    "plt.axvline(x=1,linestyle='--')\n",
    "plt.xlabel(\"Count of pages\")\n",
    "plt.ylabel(\"LCAT categories\")\n",
    "plt.title(\"Distribution of categories\")\n",
    "plt.show()"
   ]
  },
  {
   "cell_type": "code",
   "execution_count": 82,
   "metadata": {
    "collapsed": false
   },
   "outputs": [],
   "source": [
    "train.head()\n",
    "for i in range(len(train[\"Disaster Name\"])):\n",
    "    try:\n",
    "       with open(train[\"Wikipedia Link \"][i].replace(\"https://en.wikipedia.org/wiki/\",\"\")+\".html\",\"r\",encoding = \"utf-8\") as f:\n",
    "            data = f.read()\n",
    "            soup = BeautifulSoup(data)\n",
    "            if soup.find(\"span\",{'property':'dbo:abstract','xml:lang':'en'}):\n",
    "                train.loc[i,\"Description\"] = soup.find(\"span\",{'property':'dbo:abstract','xml:lang':'en'}).text\n",
    "    except OSError as e:\n",
    "        pass\n",
    "    finally:\n",
    "        pass"
   ]
  },
  {
   "cell_type": "code",
   "execution_count": 83,
   "metadata": {
    "collapsed": false
   },
   "outputs": [
    {
     "name": "stdout",
     "output_type": "stream",
     "text": [
      "Preprocessing text...\n"
     ]
    },
    {
     "name": "stderr",
     "output_type": "stream",
     "text": [
      "1it [00:00,  4.88it/s]\n"
     ]
    }
   ],
   "source": [
    "print('Preprocessing text...')\n",
    "cols = [\n",
    "   'Description'\n",
    "]\n",
    "n_features = [\n",
    "    400\n",
    "]\n",
    "train[\"Description\"] = train[\"Description\"].astype(str)\n",
    "for c_i, c in tqdm(enumerate(cols)):\n",
    "    tfidf = TfidfVectorizer(max_features=n_features[c_i], min_df=3)\n",
    "    tfidf.fit(train[c])\n",
    "    tfidf_train = np.array(tfidf.transform(train[c]).todense(), dtype=np.float16)\n",
    "    #tfidf_test = np.array(tfidf.transform(test[c]).todense(), dtype=np.float16)\n",
    "\n",
    "    for i in range(n_features[c_i]):\n",
    "        train[c + '_tfidf_' + str(i)] = tfidf_train[:, i]\n",
    "        #test[c + '_tfidf_' + str(i)] = tfidf_test[:, i]\n",
    "        \n",
    "    del tfidf, tfidf_train\n",
    "    gc.collect()"
   ]
  },
  {
   "cell_type": "code",
   "execution_count": 84,
   "metadata": {
    "collapsed": false
   },
   "outputs": [
    {
     "name": "stdout",
     "output_type": "stream",
     "text": [
      "Fold 1/5\n",
      "Training until validation scores don't improve for 100 rounds.\n",
      "[100]\tvalid_0's multi_logloss: 1.28296\n",
      "[200]\tvalid_0's multi_logloss: 1.18128\n",
      "[300]\tvalid_0's multi_logloss: 1.13421\n",
      "[400]\tvalid_0's multi_logloss: 1.10275\n",
      "[500]\tvalid_0's multi_logloss: 1.09653\n",
      "Early stopping, best iteration is:\n",
      "[445]\tvalid_0's multi_logloss: 1.09432\n",
      "Important features:\n",
      "[('Description_tfidf_276', 391), ('Description_tfidf_349', 385), ('Description_tfidf_70', 357), ('Description_tfidf_350', 304), ('Description_tfidf_270', 291), ('Description_tfidf_287', 284), ('Description_tfidf_60', 268), ('Description_tfidf_361', 267), ('Description_tfidf_379', 257), ('Description_tfidf_197', 240), ('Description_tfidf_163', 228), ('Description_tfidf_382', 210), ('Description_tfidf_268', 188), ('Description_tfidf_42', 168), ('Description_tfidf_69', 131), ('Description_tfidf_90', 108), ('Description_tfidf_59', 94), ('Description_tfidf_390', 93), ('Description_tfidf_170', 92), ('Description_tfidf_206', 82), ('Description_tfidf_220', 78), ('Description_tfidf_141', 77), ('Description_tfidf_385', 59), ('Description_tfidf_74', 59), ('Description_tfidf_386', 58), ('Description_tfidf_177', 57), ('Description_tfidf_277', 46), ('Description_tfidf_50', 36), ('Description_tfidf_213', 34), ('Description_tfidf_368', 31), ('Description_tfidf_229', 24), ('Description_tfidf_182', 23), ('Description_tfidf_142', 16), ('Description_tfidf_360', 14), ('Description_tfidf_184', 10), ('Description_tfidf_212', 8), ('Description_tfidf_189', 8), ('Description_tfidf_371', 3)]\n",
      "0 AUC: 0.6956521739130435\n",
      "Fold 2/5\n",
      "Training until validation scores don't improve for 100 rounds.\n",
      "[100]\tvalid_0's multi_logloss: 1.47614\n",
      "[200]\tvalid_0's multi_logloss: 1.41578\n",
      "[300]\tvalid_0's multi_logloss: 1.41415\n",
      "Early stopping, best iteration is:\n",
      "[225]\tvalid_0's multi_logloss: 1.39551\n",
      "1 AUC: 0.5217391304347826\n",
      "Fold 3/5\n",
      "Training until validation scores don't improve for 100 rounds.\n",
      "[100]\tvalid_0's multi_logloss: 1.49603\n",
      "[200]\tvalid_0's multi_logloss: 1.39627\n",
      "[300]\tvalid_0's multi_logloss: 1.37759\n",
      "[400]\tvalid_0's multi_logloss: 1.41111\n",
      "Early stopping, best iteration is:\n",
      "[325]\tvalid_0's multi_logloss: 1.3706\n",
      "2 AUC: 0.5217391304347826\n",
      "Fold 4/5\n",
      "Training until validation scores don't improve for 100 rounds.\n",
      "[100]\tvalid_0's multi_logloss: 1.79874\n",
      "Early stopping, best iteration is:\n",
      "[44]\tvalid_0's multi_logloss: 1.76355\n",
      "3 AUC: 0.21739130434782608\n",
      "Fold 5/5\n",
      "Training until validation scores don't improve for 100 rounds.\n",
      "[100]\tvalid_0's multi_logloss: 1.34086\n",
      "[200]\tvalid_0's multi_logloss: 1.22596\n",
      "[300]\tvalid_0's multi_logloss: 1.13481\n",
      "[400]\tvalid_0's multi_logloss: 1.10991\n",
      "[500]\tvalid_0's multi_logloss: 1.11826\n",
      "Early stopping, best iteration is:\n",
      "[400]\tvalid_0's multi_logloss: 1.10991\n",
      "4 AUC: 0.5\n",
      "AUC = 0.491304 +/- 0.154087\n"
     ]
    }
   ],
   "source": [
    "drop_cols = [\"Disaster Name\",\"Wikipedia Link \",\"Lcat_Scenario\",\"L-CAT ScenGroup\",\"Lcat_id\",\"Description\"]\n",
    "train.drop(drop_cols,axis=1,inplace = True)\n",
    "X = train.drop(\"target\",axis = 1)\n",
    "y = train[\"target\"]\n",
    "feature_names = list(X.columns)\n",
    "\n",
    "cnt = 0\n",
    "p_buf = []\n",
    "n_splits = 5\n",
    "n_repeats = 1\n",
    "kf = RepeatedKFold(\n",
    "    n_splits=n_splits, \n",
    "    n_repeats=n_repeats, \n",
    "    random_state=0)\n",
    "auc_buf = []   \n",
    "\n",
    "for train_index, valid_index in kf.split(X):\n",
    "    print('Fold {}/{}'.format(cnt + 1, n_splits))\n",
    "    params = {\n",
    "        'boosting_type': 'gbdt',\n",
    "        'objective': 'multiclass',\n",
    "        'num_class':19,\n",
    "        'metric':'multi_logloss',\n",
    "        'max_depth': 16,\n",
    "        'num_leaves': 31,\n",
    "        'learning_rate': 0.025,\n",
    "        'feature_fraction': 0.85,\n",
    "        'bagging_fraction': 0.85,\n",
    "        'bagging_freq': 5,\n",
    "        'verbose': 0,\n",
    "        'num_threads': 1,\n",
    "        'lambda_l2': 1,\n",
    "        'min_gain_to_split': 0,\n",
    "    }  \n",
    "\n",
    "    \n",
    "    model = lgb.train(\n",
    "        params,\n",
    "        lgb.Dataset(X.loc[train_index], y.loc[train_index], feature_name=feature_names),\n",
    "        num_boost_round=1000,\n",
    "        valid_sets=[lgb.Dataset(X.loc[valid_index], y.loc[valid_index])],\n",
    "        early_stopping_rounds=100,\n",
    "        verbose_eval=100,\n",
    "    )\n",
    "\n",
    "    if cnt == 0:\n",
    "        importance = model.feature_importance()\n",
    "        model_fnames = model.feature_name()\n",
    "        tuples = sorted(zip(model_fnames, importance), key=lambda x: x[1])[::-1]\n",
    "        tuples = [x for x in tuples if x[1] > 0]\n",
    "        print('Important features:')\n",
    "        print(tuples[:50])\n",
    "\n",
    "    p = model.predict(X.loc[valid_index], num_iteration=model.best_iteration)\n",
    "    p = list(p)\n",
    "    p = [int(list(np.where(i == i.max()))[0]) for i in p]\n",
    "    auc = accuracy_score(y.loc[valid_index], p)\n",
    "\n",
    "    print('{} AUC: {}'.format(cnt, auc))\n",
    "\n",
    "    #p = model.predict(X_test, num_iteration=model.best_iteration)\n",
    "    #if len(p_buf) == 0:\n",
    "     #   p_buf = np.array(p)\n",
    "    #else:\n",
    "     #   p_buf += np.array(p)\n",
    "    auc_buf.append(auc)\n",
    "\n",
    "    cnt += 1\n",
    "   # if cnt > 0: # Comment this to run several folds\n",
    "    #    break\n",
    "    \n",
    "    del model\n",
    "    gc.collect()\n",
    "\n",
    "auc_mean = np.mean(auc_buf)\n",
    "auc_std = np.std(auc_buf)\n",
    "print('AUC = {:.6f} +/- {:.6f}'.format(auc_mean, auc_std))\n"
   ]
  },
  {
   "cell_type": "markdown",
   "metadata": {},
   "source": [
    "Thus, with more training data, we will be able to produce better models with good performance. This is a working prototype to showcase the model trained in less than 120 observations"
   ]
  },
  {
   "cell_type": "code",
   "execution_count": null,
   "metadata": {
    "collapsed": true
   },
   "outputs": [],
   "source": []
  }
 ],
 "metadata": {
  "kernelspec": {
   "display_name": "Python [Root]",
   "language": "python",
   "name": "Python [Root]"
  },
  "language_info": {
   "codemirror_mode": {
    "name": "ipython",
    "version": 3
   },
   "file_extension": ".py",
   "mimetype": "text/x-python",
   "name": "python",
   "nbconvert_exporter": "python",
   "pygments_lexer": "ipython3",
   "version": "3.5.2"
  }
 },
 "nbformat": 4,
 "nbformat_minor": 2
}
